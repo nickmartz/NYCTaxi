{
 "cells": [
  {
   "cell_type": "markdown",
   "metadata": {},
   "source": [
    "# NYC Taxi Dataset COGS 108 Final Project"
   ]
  },
  {
   "cell_type": "markdown",
   "metadata": {},
   "source": [
    "## Group Members:\n",
    "Nicholas Martz - A14219345\n",
    "\n",
    "Guillermo Rios Martinez - A13636152\n",
    "\n",
    "Angela Zhang - A13063547\n",
    "\n",
    "Kyle Sung - A13871293"
   ]
  },
  {
   "cell_type": "markdown",
   "metadata": {},
   "source": [
    "# Introduction and Background"
   ]
  },
  {
   "cell_type": "markdown",
   "metadata": {},
   "source": [
    "##### Our project’s goal is to predict the time a taxi ride will take given the hour, month, or location of pickup in New York. This is useful for anyone who is interested in taking a taxi ride in New York, whether it be someone who lives there, works there, or simply a tourist looking for a quick ride. This could also be useful for the taxi company, so that they know which times and dates take the longest. This could help the company make changes to the amount of taxis in an area or find alternate routes for a faster time. \n",
    "\n",
    "##### We will be using various models to predict the duration of a ride and comparing their results. This includes OLS, linear regression, polynomial regression, random forest, and decision tree. "
   ]
  },
  {
   "cell_type": "markdown",
   "metadata": {},
   "source": [
    "# Data Description"
   ]
  },
  {
   "cell_type": "markdown",
   "metadata": {},
   "source": [
    "### Data given by the NYC Yellow Cab through a Kaggle Dataset (2016)\n",
    "\n",
    "##### id - unique identifier for each trip\n",
    "##### vendor_id - a code indicating the provider associated with the trip record\n",
    "##### pickup_datetime - date ant time when the meter was engaged\n",
    "##### dropoff_datetime - date and time when the meter was disengaged\n",
    "##### passenger_count - number of passengers in the vehicle\n",
    "##### pickup_longitude - longitude where meter was engaged\n",
    "##### pickup_latitude - latitude where the meter was engaged\n",
    "##### dropoff_longitude - longitude where the meter was disengaged\n",
    "##### dropoff_latitude - latitude where the meter was disengaged\n",
    "##### store_and_fwd_flag - whether the trip was held in vehicle momory before sending to the vendor because the vehicle did not have a connection to the server\n",
    "##### trip duration - suration of the trip in seconds"
   ]
  },
  {
   "cell_type": "markdown",
   "metadata": {},
   "source": [
    "# Packages\n",
    "\n",
    "##### The cell below illustrates all of the libraries we plan on importing to use for our Final Project"
   ]
  },
  {
   "cell_type": "code",
   "execution_count": 1,
   "metadata": {},
   "outputs": [],
   "source": [
    "import numpy as np\n",
    "import pandas as pd\n",
    "import matplotlib.pyplot as plt\n",
    "import graphviz\n",
    "import pydot\n",
    "import io\n",
    "from scipy import misc\n",
    "from sklearn import tree\n",
    "from IPython.display import SVG\n",
    "from graphviz import Source\n",
    "from IPython.display import display\n",
    "from sklearn.model_selection import train_test_split\n",
    "from sklearn.metrics import mean_squared_error\n",
    "from sklearn.linear_model import LinearRegression\n",
    "from sklearn.preprocessing import PolynomialFeatures\n",
    "from sklearn.ensemble import RandomForestRegressor\n",
    "from sklearn.tree import DecisionTreeRegressor, export_graphviz"
   ]
  },
  {
   "cell_type": "markdown",
   "metadata": {},
   "source": [
    "# Cleaning Dataset "
   ]
  },
  {
   "cell_type": "markdown",
   "metadata": {},
   "source": [
    "##### We'll first start by cleaning up our dataset. After taking a look at the columns given, we plan on getting rid of variables that aren't needed and one-hot encoding the variables that contain a string for their values. Also, for the sake of runtime, we will only be using 50000 data points. \n",
    "\n",
    "##### First, we chose to split the date and time stamp in pickup_datetime to pickup_date and pickup_time. For pickup_time we chose to use just the hour in the timestamp because we assumed that traffic wouldn't change too much within the minutes of the same hour, versus, within hours of the day. For the pickup_date we singled out the month and one-hot encoded it to see if there existed a correlation within time versus date.\n",
    "\n",
    "##### Secondly, we dropped all unnecessary columns. Id, vendor_id are both unique to each point so there would be no correlation between them and our target. Store_and_fwd_flag just tells us when the data was recorded (on the trip or after) which is irrelevant. And, lastly, we took out dropoff_datetime because this is essentially our trip_duration and pickup_datetime because we already accounted for it. "
   ]
  },
  {
   "cell_type": "code",
   "execution_count": 2,
   "metadata": {},
   "outputs": [
    {
     "name": "stdout",
     "output_type": "stream",
     "text": [
      "This is the data we started out with.\n"
     ]
    },
    {
     "data": {
      "text/html": [
       "<div>\n",
       "<style scoped>\n",
       "    .dataframe tbody tr th:only-of-type {\n",
       "        vertical-align: middle;\n",
       "    }\n",
       "\n",
       "    .dataframe tbody tr th {\n",
       "        vertical-align: top;\n",
       "    }\n",
       "\n",
       "    .dataframe thead th {\n",
       "        text-align: right;\n",
       "    }\n",
       "</style>\n",
       "<table border=\"1\" class=\"dataframe\">\n",
       "  <thead>\n",
       "    <tr style=\"text-align: right;\">\n",
       "      <th></th>\n",
       "      <th>id</th>\n",
       "      <th>vendor_id</th>\n",
       "      <th>pickup_datetime</th>\n",
       "      <th>dropoff_datetime</th>\n",
       "      <th>passenger_count</th>\n",
       "      <th>pickup_longitude</th>\n",
       "      <th>pickup_latitude</th>\n",
       "      <th>dropoff_longitude</th>\n",
       "      <th>dropoff_latitude</th>\n",
       "      <th>store_and_fwd_flag</th>\n",
       "      <th>trip_duration</th>\n",
       "    </tr>\n",
       "  </thead>\n",
       "  <tbody>\n",
       "    <tr>\n",
       "      <th>0</th>\n",
       "      <td>id2875421</td>\n",
       "      <td>2</td>\n",
       "      <td>2016-03-14 17:24:55</td>\n",
       "      <td>2016-03-14 17:32:30</td>\n",
       "      <td>1</td>\n",
       "      <td>-73.982155</td>\n",
       "      <td>40.767937</td>\n",
       "      <td>-73.964630</td>\n",
       "      <td>40.765602</td>\n",
       "      <td>N</td>\n",
       "      <td>455</td>\n",
       "    </tr>\n",
       "    <tr>\n",
       "      <th>1</th>\n",
       "      <td>id2377394</td>\n",
       "      <td>1</td>\n",
       "      <td>2016-06-12 00:43:35</td>\n",
       "      <td>2016-06-12 00:54:38</td>\n",
       "      <td>1</td>\n",
       "      <td>-73.980415</td>\n",
       "      <td>40.738564</td>\n",
       "      <td>-73.999481</td>\n",
       "      <td>40.731152</td>\n",
       "      <td>N</td>\n",
       "      <td>663</td>\n",
       "    </tr>\n",
       "    <tr>\n",
       "      <th>2</th>\n",
       "      <td>id3858529</td>\n",
       "      <td>2</td>\n",
       "      <td>2016-01-19 11:35:24</td>\n",
       "      <td>2016-01-19 12:10:48</td>\n",
       "      <td>1</td>\n",
       "      <td>-73.979027</td>\n",
       "      <td>40.763939</td>\n",
       "      <td>-74.005333</td>\n",
       "      <td>40.710087</td>\n",
       "      <td>N</td>\n",
       "      <td>2124</td>\n",
       "    </tr>\n",
       "    <tr>\n",
       "      <th>3</th>\n",
       "      <td>id3504673</td>\n",
       "      <td>2</td>\n",
       "      <td>2016-04-06 19:32:31</td>\n",
       "      <td>2016-04-06 19:39:40</td>\n",
       "      <td>1</td>\n",
       "      <td>-74.010040</td>\n",
       "      <td>40.719971</td>\n",
       "      <td>-74.012268</td>\n",
       "      <td>40.706718</td>\n",
       "      <td>N</td>\n",
       "      <td>429</td>\n",
       "    </tr>\n",
       "    <tr>\n",
       "      <th>4</th>\n",
       "      <td>id2181028</td>\n",
       "      <td>2</td>\n",
       "      <td>2016-03-26 13:30:55</td>\n",
       "      <td>2016-03-26 13:38:10</td>\n",
       "      <td>1</td>\n",
       "      <td>-73.973053</td>\n",
       "      <td>40.793209</td>\n",
       "      <td>-73.972923</td>\n",
       "      <td>40.782520</td>\n",
       "      <td>N</td>\n",
       "      <td>435</td>\n",
       "    </tr>\n",
       "  </tbody>\n",
       "</table>\n",
       "</div>"
      ],
      "text/plain": [
       "          id  vendor_id      pickup_datetime     dropoff_datetime  \\\n",
       "0  id2875421          2  2016-03-14 17:24:55  2016-03-14 17:32:30   \n",
       "1  id2377394          1  2016-06-12 00:43:35  2016-06-12 00:54:38   \n",
       "2  id3858529          2  2016-01-19 11:35:24  2016-01-19 12:10:48   \n",
       "3  id3504673          2  2016-04-06 19:32:31  2016-04-06 19:39:40   \n",
       "4  id2181028          2  2016-03-26 13:30:55  2016-03-26 13:38:10   \n",
       "\n",
       "   passenger_count  pickup_longitude  pickup_latitude  dropoff_longitude  \\\n",
       "0                1        -73.982155        40.767937         -73.964630   \n",
       "1                1        -73.980415        40.738564         -73.999481   \n",
       "2                1        -73.979027        40.763939         -74.005333   \n",
       "3                1        -74.010040        40.719971         -74.012268   \n",
       "4                1        -73.973053        40.793209         -73.972923   \n",
       "\n",
       "   dropoff_latitude store_and_fwd_flag  trip_duration  \n",
       "0         40.765602                  N            455  \n",
       "1         40.731152                  N            663  \n",
       "2         40.710087                  N           2124  \n",
       "3         40.706718                  N            429  \n",
       "4         40.782520                  N            435  "
      ]
     },
     "execution_count": 2,
     "metadata": {},
     "output_type": "execute_result"
    }
   ],
   "source": [
    "dataset = pd.read_csv('train.csv')\n",
    "dataset = dataset.head(50000)\n",
    "print(\"This is the data we started out with.\")\n",
    "dataset.head()"
   ]
  },
  {
   "cell_type": "code",
   "execution_count": 3,
   "metadata": {},
   "outputs": [
    {
     "name": "stdout",
     "output_type": "stream",
     "text": [
      "(50000, 13)\n"
     ]
    },
    {
     "data": {
      "text/html": [
       "<div>\n",
       "<style scoped>\n",
       "    .dataframe tbody tr th:only-of-type {\n",
       "        vertical-align: middle;\n",
       "    }\n",
       "\n",
       "    .dataframe tbody tr th {\n",
       "        vertical-align: top;\n",
       "    }\n",
       "\n",
       "    .dataframe thead th {\n",
       "        text-align: right;\n",
       "    }\n",
       "</style>\n",
       "<table border=\"1\" class=\"dataframe\">\n",
       "  <thead>\n",
       "    <tr style=\"text-align: right;\">\n",
       "      <th></th>\n",
       "      <th>pickup_time</th>\n",
       "      <th>passenger_count</th>\n",
       "      <th>pickup_longitude</th>\n",
       "      <th>pickup_latitude</th>\n",
       "      <th>dropoff_longitude</th>\n",
       "      <th>dropoff_latitude</th>\n",
       "      <th>Jan</th>\n",
       "      <th>Feb</th>\n",
       "      <th>Mar</th>\n",
       "      <th>Apr</th>\n",
       "      <th>May</th>\n",
       "      <th>Jun</th>\n",
       "      <th>tripDuration</th>\n",
       "    </tr>\n",
       "  </thead>\n",
       "  <tbody>\n",
       "    <tr>\n",
       "      <th>0</th>\n",
       "      <td>17</td>\n",
       "      <td>1</td>\n",
       "      <td>-73.982155</td>\n",
       "      <td>40.767937</td>\n",
       "      <td>-73.964630</td>\n",
       "      <td>40.765602</td>\n",
       "      <td>0</td>\n",
       "      <td>0</td>\n",
       "      <td>1</td>\n",
       "      <td>0</td>\n",
       "      <td>0</td>\n",
       "      <td>0</td>\n",
       "      <td>455</td>\n",
       "    </tr>\n",
       "    <tr>\n",
       "      <th>1</th>\n",
       "      <td>0</td>\n",
       "      <td>1</td>\n",
       "      <td>-73.980415</td>\n",
       "      <td>40.738564</td>\n",
       "      <td>-73.999481</td>\n",
       "      <td>40.731152</td>\n",
       "      <td>0</td>\n",
       "      <td>0</td>\n",
       "      <td>0</td>\n",
       "      <td>0</td>\n",
       "      <td>0</td>\n",
       "      <td>1</td>\n",
       "      <td>663</td>\n",
       "    </tr>\n",
       "    <tr>\n",
       "      <th>2</th>\n",
       "      <td>11</td>\n",
       "      <td>1</td>\n",
       "      <td>-73.979027</td>\n",
       "      <td>40.763939</td>\n",
       "      <td>-74.005333</td>\n",
       "      <td>40.710087</td>\n",
       "      <td>1</td>\n",
       "      <td>0</td>\n",
       "      <td>0</td>\n",
       "      <td>0</td>\n",
       "      <td>0</td>\n",
       "      <td>0</td>\n",
       "      <td>2124</td>\n",
       "    </tr>\n",
       "    <tr>\n",
       "      <th>3</th>\n",
       "      <td>19</td>\n",
       "      <td>1</td>\n",
       "      <td>-74.010040</td>\n",
       "      <td>40.719971</td>\n",
       "      <td>-74.012268</td>\n",
       "      <td>40.706718</td>\n",
       "      <td>0</td>\n",
       "      <td>0</td>\n",
       "      <td>0</td>\n",
       "      <td>1</td>\n",
       "      <td>0</td>\n",
       "      <td>0</td>\n",
       "      <td>429</td>\n",
       "    </tr>\n",
       "    <tr>\n",
       "      <th>4</th>\n",
       "      <td>13</td>\n",
       "      <td>1</td>\n",
       "      <td>-73.973053</td>\n",
       "      <td>40.793209</td>\n",
       "      <td>-73.972923</td>\n",
       "      <td>40.782520</td>\n",
       "      <td>0</td>\n",
       "      <td>0</td>\n",
       "      <td>1</td>\n",
       "      <td>0</td>\n",
       "      <td>0</td>\n",
       "      <td>0</td>\n",
       "      <td>435</td>\n",
       "    </tr>\n",
       "    <tr>\n",
       "      <th>5</th>\n",
       "      <td>22</td>\n",
       "      <td>6</td>\n",
       "      <td>-73.982857</td>\n",
       "      <td>40.742195</td>\n",
       "      <td>-73.992081</td>\n",
       "      <td>40.749184</td>\n",
       "      <td>1</td>\n",
       "      <td>0</td>\n",
       "      <td>0</td>\n",
       "      <td>0</td>\n",
       "      <td>0</td>\n",
       "      <td>0</td>\n",
       "      <td>443</td>\n",
       "    </tr>\n",
       "    <tr>\n",
       "      <th>6</th>\n",
       "      <td>22</td>\n",
       "      <td>4</td>\n",
       "      <td>-73.969017</td>\n",
       "      <td>40.757839</td>\n",
       "      <td>-73.957405</td>\n",
       "      <td>40.765896</td>\n",
       "      <td>0</td>\n",
       "      <td>0</td>\n",
       "      <td>0</td>\n",
       "      <td>0</td>\n",
       "      <td>0</td>\n",
       "      <td>1</td>\n",
       "      <td>341</td>\n",
       "    </tr>\n",
       "    <tr>\n",
       "      <th>7</th>\n",
       "      <td>7</td>\n",
       "      <td>1</td>\n",
       "      <td>-73.969276</td>\n",
       "      <td>40.797779</td>\n",
       "      <td>-73.922470</td>\n",
       "      <td>40.760559</td>\n",
       "      <td>0</td>\n",
       "      <td>0</td>\n",
       "      <td>0</td>\n",
       "      <td>0</td>\n",
       "      <td>1</td>\n",
       "      <td>0</td>\n",
       "      <td>1551</td>\n",
       "    </tr>\n",
       "    <tr>\n",
       "      <th>8</th>\n",
       "      <td>23</td>\n",
       "      <td>1</td>\n",
       "      <td>-73.999481</td>\n",
       "      <td>40.738400</td>\n",
       "      <td>-73.985786</td>\n",
       "      <td>40.732815</td>\n",
       "      <td>0</td>\n",
       "      <td>0</td>\n",
       "      <td>0</td>\n",
       "      <td>0</td>\n",
       "      <td>1</td>\n",
       "      <td>0</td>\n",
       "      <td>255</td>\n",
       "    </tr>\n",
       "    <tr>\n",
       "      <th>9</th>\n",
       "      <td>21</td>\n",
       "      <td>1</td>\n",
       "      <td>-73.981049</td>\n",
       "      <td>40.744339</td>\n",
       "      <td>-73.973000</td>\n",
       "      <td>40.789989</td>\n",
       "      <td>0</td>\n",
       "      <td>0</td>\n",
       "      <td>1</td>\n",
       "      <td>0</td>\n",
       "      <td>0</td>\n",
       "      <td>0</td>\n",
       "      <td>1225</td>\n",
       "    </tr>\n",
       "  </tbody>\n",
       "</table>\n",
       "</div>"
      ],
      "text/plain": [
       "   pickup_time  passenger_count  pickup_longitude  pickup_latitude  \\\n",
       "0           17                1        -73.982155        40.767937   \n",
       "1            0                1        -73.980415        40.738564   \n",
       "2           11                1        -73.979027        40.763939   \n",
       "3           19                1        -74.010040        40.719971   \n",
       "4           13                1        -73.973053        40.793209   \n",
       "5           22                6        -73.982857        40.742195   \n",
       "6           22                4        -73.969017        40.757839   \n",
       "7            7                1        -73.969276        40.797779   \n",
       "8           23                1        -73.999481        40.738400   \n",
       "9           21                1        -73.981049        40.744339   \n",
       "\n",
       "   dropoff_longitude  dropoff_latitude  Jan  Feb  Mar  Apr  May  Jun  \\\n",
       "0         -73.964630         40.765602    0    0    1    0    0    0   \n",
       "1         -73.999481         40.731152    0    0    0    0    0    1   \n",
       "2         -74.005333         40.710087    1    0    0    0    0    0   \n",
       "3         -74.012268         40.706718    0    0    0    1    0    0   \n",
       "4         -73.972923         40.782520    0    0    1    0    0    0   \n",
       "5         -73.992081         40.749184    1    0    0    0    0    0   \n",
       "6         -73.957405         40.765896    0    0    0    0    0    1   \n",
       "7         -73.922470         40.760559    0    0    0    0    1    0   \n",
       "8         -73.985786         40.732815    0    0    0    0    1    0   \n",
       "9         -73.973000         40.789989    0    0    1    0    0    0   \n",
       "\n",
       "   tripDuration  \n",
       "0           455  \n",
       "1           663  \n",
       "2          2124  \n",
       "3           429  \n",
       "4           435  \n",
       "5           443  \n",
       "6           341  \n",
       "7          1551  \n",
       "8           255  \n",
       "9          1225  "
      ]
     },
     "execution_count": 3,
     "metadata": {},
     "output_type": "execute_result"
    }
   ],
   "source": [
    "#Reformatting the Datetime\n",
    "dataset['pickup_datetime'] =  pd.to_datetime(dataset['pickup_datetime'], format='%Y-%m-%d %H:%M:%S')\n",
    "dataset[\"pickup_date\"] = dataset[\"pickup_datetime\"].dt.month\n",
    "dataset[\"pickup_time\"] = dataset[\"pickup_datetime\"].dt.hour\n",
    "dataset = dataset.drop(columns=['id', 'vendor_id', 'store_and_fwd_flag', 'dropoff_datetime', 'pickup_datetime'])\n",
    "dataset = dataset[['pickup_date', 'pickup_time', 'passenger_count', 'pickup_longitude', 'pickup_latitude', 'dropoff_longitude', 'dropoff_latitude', 'trip_duration']]\n",
    "\n",
    "#One Hot Encoding the Months\n",
    "dataset['Jan'] = np.where(dataset['pickup_date'] == 1, 1, 0)\n",
    "dataset['Feb'] = np.where(dataset['pickup_date'] == 2, 1, 0)\n",
    "dataset['Mar'] = np.where(dataset['pickup_date'] == 3, 1, 0)\n",
    "dataset['Apr'] = np.where(dataset['pickup_date'] == 4, 1, 0)\n",
    "dataset['May'] = np.where(dataset['pickup_date'] == 5, 1, 0)\n",
    "dataset['Jun'] = np.where(dataset['pickup_date'] == 6, 1, 0)\n",
    "dataset = dataset.drop(columns=['pickup_date'])\n",
    "\n",
    "# Just for format purposes, putting target at the end\n",
    "dataset['tripDuration'] = dataset['trip_duration']\n",
    "dataset = dataset.drop(columns=['trip_duration'])\n",
    "\n",
    "print(dataset.shape)\n",
    "dataset.head(10)"
   ]
  },
  {
   "cell_type": "code",
   "execution_count": 4,
   "metadata": {},
   "outputs": [
    {
     "name": "stdout",
     "output_type": "stream",
     "text": [
      "(50000, 12)\n",
      "(50000,)\n"
     ]
    }
   ],
   "source": [
    "X = dataset.iloc[:, :-1].values\n",
    "y = dataset.iloc[:, -1].values\n",
    "print(X.shape)\n",
    "print(y.shape)"
   ]
  },
  {
   "cell_type": "markdown",
   "metadata": {},
   "source": [
    "# Initial Visualization"
   ]
  },
  {
   "cell_type": "markdown",
   "metadata": {},
   "source": [
    "##### Below are some initial visualizations we did to illustrate the relationship between one, two, or three variables. \n",
    "\n",
    "##### We want to see if we can distinguish a pattern right off the bat. Notice that for the duration portions of the graphs, we can see a pattern where some points lie very high in the duration column. We notice that there lies a cluster of points under 20,000 seconds and another around 80,000 seconds. 80,000 seconds translates to about 22 hours which seems very odd.\n",
    "\n",
    "##### Our assumption is that this Kaggle dataset didn't correctly take into account travel times which started before midnight (PM) and ended after midnight (AM). It seems that they might have added an extrenous number to the actual travel time due to it being from one day to another. We will omit this later on in the project."
   ]
  },
  {
   "cell_type": "code",
   "execution_count": 5,
   "metadata": {},
   "outputs": [
    {
     "data": {
      "image/png": "[encoded data removed]",
      "text/plain": [
       "<Figure size 432x288 with 1 Axes>"
      ]
     },
     "metadata": {
      "needs_background": "light"
     },
     "output_type": "display_data"
    }
   ],
   "source": [
    "# Time vs Duration\n",
    "timeAxis = dataset.iloc[:, 0].values\n",
    "plt.title('Time vs Duration')\n",
    "plt.xlabel('Month')\n",
    "plt.ylabel('Duration of Ride (seconds)')\n",
    "plt.scatter(timeAxis, y, color='red')\n",
    "plt.show()"
   ]
  },
  {
   "cell_type": "code",
   "execution_count": 6,
   "metadata": {},
   "outputs": [
    {
     "data": {
      "image/png": "[encoded data removed]",
      "text/plain": [
       "<Figure size 432x288 with 1 Axes>"
      ]
     },
     "metadata": {
      "needs_background": "light"
     },
     "output_type": "display_data"
    }
   ],
   "source": [
    "# Time vs Longitude\n",
    "locationLongAxis = dataset.iloc[:, 2].values\n",
    "plt.title('Location Longitude vs Duration')\n",
    "plt.xlabel('Location Longitude')\n",
    "plt.ylabel('Duration of Ride (seconds)')\n",
    "plt.scatter(locationLongAxis, y, color='blue')\n",
    "plt.show()"
   ]
  },
  {
   "cell_type": "code",
   "execution_count": 7,
   "metadata": {},
   "outputs": [
    {
     "data": {
      "image/png": "[encoded data removed]",
      "text/plain": [
       "<Figure size 432x288 with 1 Axes>"
      ]
     },
     "metadata": {
      "needs_background": "light"
     },
     "output_type": "display_data"
    }
   ],
   "source": [
    "# Time vs Latitude\n",
    "locationLatAxis = dataset.iloc[:, 3].values\n",
    "plt.title('Location Latitude vs Duration')\n",
    "plt.xlabel('Location Latitude')\n",
    "plt.ylabel('Duration of Ride (seconds)')\n",
    "plt.scatter(locationLatAxis, y, color='yellow')\n",
    "plt.show()"
   ]
  },
  {
   "cell_type": "code",
   "execution_count": 8,
   "metadata": {},
   "outputs": [
    {
     "data": {
      "image/png": "[encoded data removed]",
      "text/plain": [
       "<Figure size 432x288 with 1 Axes>"
      ]
     },
     "metadata": {
      "needs_background": "light"
     },
     "output_type": "display_data"
    }
   ],
   "source": [
    "# Latitude vs Longitude vs Duration\n",
    "from mpl_toolkits.mplot3d import Axes3D\n",
    "fig = plt.figure()\n",
    "ax = Axes3D(fig)\n",
    "ax.scatter(locationLongAxis, locationLatAxis, y)\n",
    "ax.set_title('Latitude vs Longitude vs Duration')\n",
    "ax.set_xlabel('Longitude')\n",
    "ax.set_ylabel('Latitude')\n",
    "ax.set_zlabel('Duration')\n",
    "plt.show()"
   ]
  },
  {
   "cell_type": "markdown",
   "metadata": {},
   "source": [
    "# Data Analysis and Results"
   ]
  },
  {
   "cell_type": "markdown",
   "metadata": {},
   "source": [
    "## OLS/Linear Regression"
   ]
  },
  {
   "cell_type": "markdown",
   "metadata": {},
   "source": [
    "### OLS Original Dataset"
   ]
  },
  {
   "cell_type": "markdown",
   "metadata": {},
   "source": [
    "##### First, we want to test how the raw dataset with the included outliers (80,000 seconds portion) will be as a linear model. This will give us a baseline and be our comparision to our cleaned up dataset which we will implement later. \n",
    "\n",
    "##### We implement a backwards elimination technique to see which predictors we can omit. We come out with a R-squared value of 0.009 which is considered a very bad model for our dataset. Remember, the R-squared value tells us how much the variation in our target variable is explained by the predictor variables. This means that only 0.9% of the variation of our target variables can be explained by the predictors, hence, a bad model to predict the duartion of our trip. \n",
    "\n",
    "##### Since our dataset has some false outlier data, we expected our R-Squared value to be low. After running our backwards elimination and OLS summary, we are able to omit pickup time. Intuitively, we can see that this may not be the best idea because pickup time clearly affects the duration of a trip (traffic hour vs non-traffic hour) and we are able to conclude that this dataset is not optimal."
   ]
  },
  {
   "cell_type": "code",
   "execution_count": 9,
   "metadata": {},
   "outputs": [
    {
     "name": "stdout",
     "output_type": "stream",
     "text": [
      "Using all possible predictors\n",
      "                            OLS Regression Results                            \n",
      "==============================================================================\n",
      "Dep. Variable:                      y   R-squared:                       0.009\n",
      "Model:                            OLS   Adj. R-squared:                  0.009\n",
      "Method:                 Least Squares   F-statistic:                     41.99\n",
      "Date:                Thu, 21 Mar 2019   Prob (F-statistic):           1.20e-91\n",
      "Time:                        23:23:39   Log-Likelihood:            -4.7388e+05\n",
      "No. Observations:               50000   AIC:                         9.478e+05\n",
      "Df Residuals:                   49988   BIC:                         9.479e+05\n",
      "Df Model:                          11                                         \n",
      "Covariance Type:            nonrobust                                         \n",
      "==============================================================================\n",
      "                 coef    std err          t      P>|t|      [0.025      0.975]\n",
      "------------------------------------------------------------------------------\n",
      "const       7.441e+05   3.68e+04     20.196      0.000    6.72e+05    8.16e+05\n",
      "x1             3.6955      2.218      1.666      0.096      -0.653       8.044\n",
      "x2            32.9746     10.740      3.070      0.002      11.923      54.026\n",
      "x3          4864.9884    394.325     12.338      0.000    4092.107    5637.870\n",
      "x4         -2926.6845    566.791     -5.164      0.000   -4037.601   -1815.768\n",
      "x5          3304.2575    406.062      8.137      0.000    2508.371    4100.144\n",
      "x6         -3524.7809    485.903     -7.254      0.000   -4477.157   -2572.405\n",
      "x7          1.239e+05   6140.549     20.181      0.000    1.12e+05    1.36e+05\n",
      "x8          1.239e+05   6140.656     20.183      0.000    1.12e+05    1.36e+05\n",
      "x9           1.24e+05   6140.377     20.196      0.000    1.12e+05    1.36e+05\n",
      "x10          1.24e+05   6140.480     20.197      0.000    1.12e+05    1.36e+05\n",
      "x11         1.241e+05   6140.144     20.205      0.000    1.12e+05    1.36e+05\n",
      "x12         1.241e+05   6139.950     20.211      0.000    1.12e+05    1.36e+05\n",
      "==============================================================================\n",
      "Omnibus:                   120705.944   Durbin-Watson:                   2.002\n",
      "Prob(Omnibus):                  0.000   Jarque-Bera (JB):        960791063.749\n",
      "Skew:                          25.565   Prob(JB):                         0.00\n",
      "Kurtosis:                     680.175   Cond. No.                     5.04e+17\n",
      "==============================================================================\n",
      "\n",
      "Warnings:\n",
      "[1] Standard Errors assume that the covariance matrix of the errors is correctly specified.\n",
      "[2] The smallest eigenvalue is 2.84e-27. This might indicate that there are\n",
      "strong multicollinearity problems or that the design matrix is singular.\n",
      "\n",
      "Omitting pickup time\n",
      "                            OLS Regression Results                            \n",
      "==============================================================================\n",
      "Dep. Variable:                      y   R-squared:                       0.009\n",
      "Model:                            OLS   Adj. R-squared:                  0.009\n",
      "Method:                 Least Squares   F-statistic:                     45.90\n",
      "Date:                Thu, 21 Mar 2019   Prob (F-statistic):           6.74e-92\n",
      "Time:                        23:23:39   Log-Likelihood:            -4.7388e+05\n",
      "No. Observations:               50000   AIC:                         9.478e+05\n",
      "Df Residuals:                   49989   BIC:                         9.479e+05\n",
      "Df Model:                          10                                         \n",
      "Covariance Type:            nonrobust                                         \n",
      "==============================================================================\n",
      "                 coef    std err          t      P>|t|      [0.025      0.975]\n",
      "------------------------------------------------------------------------------\n",
      "const       7.425e+05   3.68e+04     20.160      0.000     6.7e+05    8.15e+05\n",
      "x1            33.2066     10.740      3.092      0.002      12.157      54.257\n",
      "x2          4881.8738    394.202     12.384      0.000    4109.234    5654.514\n",
      "x3         -2917.8051    566.776     -5.148      0.000   -4028.692   -1806.918\n",
      "x4          3277.1472    405.743      8.077      0.000    2481.886    4072.408\n",
      "x5         -3507.0091    485.795     -7.219      0.000   -4459.172   -2554.846\n",
      "x6          1.237e+05   6138.724     20.146      0.000    1.12e+05    1.36e+05\n",
      "x7          1.237e+05   6138.842     20.147      0.000    1.12e+05    1.36e+05\n",
      "x8          1.238e+05   6138.566     20.161      0.000    1.12e+05    1.36e+05\n",
      "x9          1.238e+05   6138.668     20.161      0.000    1.12e+05    1.36e+05\n",
      "x10         1.238e+05   6138.322     20.169      0.000    1.12e+05    1.36e+05\n",
      "x11         1.238e+05   6138.138     20.176      0.000    1.12e+05    1.36e+05\n",
      "==============================================================================\n",
      "Omnibus:                   120700.510   Durbin-Watson:                   2.002\n",
      "Prob(Omnibus):                  0.000   Jarque-Bera (JB):        960519804.703\n",
      "Skew:                          25.562   Prob(JB):                         0.00\n",
      "Kurtosis:                     680.079   Cond. No.                     6.27e+17\n",
      "==============================================================================\n",
      "\n",
      "Warnings:\n",
      "[1] Standard Errors assume that the covariance matrix of the errors is correctly specified.\n",
      "[2] The smallest eigenvalue is 1.82e-27. This might indicate that there are\n",
      "strong multicollinearity problems or that the design matrix is singular.\n",
      "(50000, 11)\n"
     ]
    }
   ],
   "source": [
    "# Building the optimal model using Backwards Elimination\n",
    "import statsmodels.formula.api as sm\n",
    "\n",
    "# We have to add a column of 1s because statsmodels.formula.api doesn't account for b0\n",
    "# To include b0 we can just have x0 = 1, which will tell statsmodel.formula.api to account for b0\n",
    "# Adding X to an array full of 1s\n",
    "X_opt = np.append(arr = np.ones((50000, 1)).astype(int), values = X, axis = 1)\n",
    "\n",
    "\n",
    "# Fit the full model with all possible predictors\n",
    "# regressor ordinary least squares\n",
    "regressor_OLS =  sm.OLS(endog = y, exog = X_opt).fit()\n",
    "\n",
    "print(\"Using all possible predictors\")\n",
    "print(regressor_OLS.summary())\n",
    "\n",
    "# Omitting based on 0.5 threshold\n",
    "\n",
    "# Omit 1st column (pickup time)\n",
    "X_opt = np.delete(X_opt, 1, axis=1)\n",
    "regressor_OLS =  sm.OLS(endog = y, exog = X_opt).fit()\n",
    "print()\n",
    "print(\"Omitting pickup time\")\n",
    "print(regressor_OLS.summary())\n",
    "\n",
    "# Take column of 1s out from optimal model\n",
    "X_opt = X_opt[:, 1:]\n",
    "print(X_opt.shape)"
   ]
  },
  {
   "cell_type": "markdown",
   "metadata": {},
   "source": [
    "### Custom RMSE Function"
   ]
  },
  {
   "cell_type": "code",
   "execution_count": 10,
   "metadata": {},
   "outputs": [],
   "source": [
    "def custom_validation(random, model, X, y, folds, omit):\n",
    "    x_error = []\n",
    "    x_opt_error = []\n",
    "    \n",
    "    for i in range(folds):\n",
    "        # randomize\n",
    "        random = random.sample(frac=1)\n",
    "        X = random.iloc[:, :-1].values\n",
    "        y = random.iloc[:, -1].values\n",
    "        \n",
    "        # Size of test\n",
    "        xRows, xCol = X.shape\n",
    "        \n",
    "        # Splitting the dataset into the Training set and Test set\n",
    "        X_train, X_test, y_train, y_test = train_test_split(X, y, test_size = 1/folds, random_state = 0)\n",
    "    \n",
    "        # Size of test\n",
    "        rows, col = X_test.shape\n",
    "        \n",
    "        if(model == 'linreg'):\n",
    "            # Fitting Linear Regression to the Training set\n",
    "            regressor = LinearRegression()\n",
    "            regressor.fit(X_train, y_train)\n",
    "            y_pred = regressor.predict(X_test)\n",
    "        elif(model == 'polyReg') :\n",
    "            poly = PolynomialFeatures(degree = 3)\n",
    "            X_poly = poly.fit_transform(X_train)\n",
    "            poly.fit(X_poly, y_train)\n",
    "            regressor = LinearRegression()\n",
    "            regressor.fit(X_poly, y_train)\n",
    "            y_pred = regressor.predict(poly.fit_transform(X_test))\n",
    "        elif (model == 'randomForest'):\n",
    "            # Fitting Random Forest to the Training set\n",
    "            regressor = RandomForestRegressor(n_estimators = 50, random_state = 0)\n",
    "            regressor.fit(X_train, y_train)\n",
    "            y_pred = regressor.predict(X_test)\n",
    "        elif (model == 'decisionTree'):\n",
    "            regressor = DecisionTreeRegressor(random_state = 0)\n",
    "            regressor.fit(X_train, y_train)\n",
    "            y_pred = regressor.predict(X_test)\n",
    "        else:\n",
    "            print('not linear regression')\n",
    "        \n",
    "        x_error.append(np.sqrt(mean_squared_error(y_test, y_pred)))\n",
    "    \n",
    "        ## Repeating for the most optimal predictors\n",
    "        \n",
    "        # Optimal X\n",
    "        X_opt = np.delete(X, omit, axis=1)\n",
    "        \n",
    "        X_opt_train, X_opt_test, y_opt_train, y_opt_test = train_test_split(X_opt, y, test_size = 1/folds, random_state = 0)\n",
    "\n",
    "        opt_rows, opt_cols = X_opt_test.shape\n",
    "\n",
    "        if(model == 'linreg'):\n",
    "            opt_regressor = LinearRegression()\n",
    "            opt_regressor.fit(X_opt_train, y_opt_train)\n",
    "            y_pred_opt = opt_regressor.predict(X_opt_test)\n",
    "        elif(model == 'polyReg') :\n",
    "            poly_opt = PolynomialFeatures(degree = 3)\n",
    "            X_poly_opt = poly_opt.fit_transform(X_opt_train)\n",
    "            poly_opt.fit(X_poly_opt, y_opt_train)\n",
    "            opt_regressor = LinearRegression()\n",
    "            opt_regressor.fit(X_poly_opt, y_opt_train)\n",
    "            y_pred_opt = opt_regressor.predict(poly_opt.fit_transform(X_opt_test))\n",
    "        elif (model == 'randomForest'):\n",
    "            opt_regressor = RandomForestRegressor(n_estimators = 50, random_state = 0)\n",
    "            opt_regressor.fit(X_opt_train, y_opt_train)\n",
    "            y_pred_opt = opt_regressor.predict(X_opt_test)\n",
    "        elif (model == 'decisionTree'):\n",
    "            opt_regressor = DecisionTreeRegressor(random_state = 0)\n",
    "            opt_regressor.fit(X_opt_train, y_opt_train)\n",
    "            y_pred_opt = opt_regressor.predict(X_opt_test)\n",
    "        else:\n",
    "            print('not linear regression')\n",
    "\n",
    "        x_opt_error.append(np.sqrt(mean_squared_error(y_opt_test, y_pred_opt)))\n",
    "    \n",
    "    return np.mean(x_error), np.mean(x_opt_error), regressor"
   ]
  },
  {
   "cell_type": "markdown",
   "metadata": {},
   "source": [
    "### Linear Model (Original Dataset)"
   ]
  },
  {
   "cell_type": "markdown",
   "metadata": {},
   "source": [
    "##### This makes a call to the custom_validation function which returns us our RMSE for our model selected, in this case, a Linear Regression model. Our results indicate that our train and test predictors for both categories are pretty bad, predicting about 50 minutes off the duration time. Imagine taking a taxi cab in NYC with an estimated time of 60 minutes when it was actually only 10. You would probably think that this would be a bad predictor and never decide to trust it again. \n",
    "\n",
    "##### Remember, we expect a terrible RMSE because this is using the original dataset (our range of values are listed below). Also, note that this is taking into consideration trip that were 1 second which is impossible and the driver must have accidentally started the fare and shut it off immediately."
   ]
  },
  {
   "cell_type": "code",
   "execution_count": 11,
   "metadata": {},
   "outputs": [
    {
     "name": "stdout",
     "output_type": "stream",
     "text": [
      "The Linear Regression RMSE of all predictors 3295.8391008919716\n",
      "The Linear Regression RMSE of the optimal predictors 3295.8743610931588\n",
      "Largest value in y: 86357\n",
      "Smallest value in y: 1\n"
     ]
    }
   ],
   "source": [
    "rmse = custom_validation(dataset, 'linreg', X, y, 10, 0)\n",
    "print('The Linear Regression RMSE of all predictors', rmse[0])\n",
    "print('The Linear Regression RMSE of the optimal predictors', rmse[1])\n",
    "print('Largest value in y:', np.max(y))\n",
    "print('Smallest value in y:', np.min(y))"
   ]
  },
  {
   "cell_type": "markdown",
   "metadata": {},
   "source": [
    "### More Optimal Dataset Excluding Outliers"
   ]
  },
  {
   "cell_type": "markdown",
   "metadata": {},
   "source": [
    "##### So this is where we actually make our most optimal dataset. Our dataset will first narrow down the scope of the trip duration to be between 5 minutes to 5 hours. We chose 5 minutes to be our initial low threshold because we figured that would normally be the decision where someone would take a cab instead of walking the distance. And we chose 20000 seconds (5 hours) to be our initial high threshold because, recall from the graphs in the beginning, most of the points lied under that. Then, we found the mean for the trip duration in that scope and took the data between the mean and two standard deviations from it to be our dataset which, now, excluded outliers. \n",
    "\n",
    "##### On a side note, we were able to take out almost 10,000 datapoints which were negatively affecting our models!"
   ]
  },
  {
   "cell_type": "code",
   "execution_count": 12,
   "metadata": {},
   "outputs": [
    {
     "name": "stdout",
     "output_type": "stream",
     "text": [
      "(42324, 13)\n",
      "Low threshold: -371.9434227331567\n",
      "High threshold: 2266.9387917909016\n",
      "(40400, 13)\n"
     ]
    }
   ],
   "source": [
    "optDataset = dataset.drop(dataset[dataset.tripDuration > 20000].index)\n",
    "optDataset = optDataset.drop(optDataset[optDataset.tripDuration < 300].index)\n",
    "print(optDataset.shape)\n",
    "\n",
    "optimalX = optDataset.iloc[:, :-1].values\n",
    "optimalY = optDataset.iloc[:, -1].values\n",
    "\n",
    "# Lets try it without outliers using stdev/mean\n",
    "mean = np.mean(optimalY)\n",
    "std = np.std(optimalY)\n",
    "\n",
    "# low threshold is at least five minutes\n",
    "lowThresh = mean - (2*std)\n",
    "highThresh = mean + (2*std)\n",
    "print('Low threshold:', lowThresh)\n",
    "print('High threshold:', highThresh)\n",
    "\n",
    "# Indexes to delete\n",
    "optDataset = optDataset[optDataset.tripDuration < highThresh]\n",
    "optDataset = optDataset[optDataset.tripDuration > lowThresh]\n",
    "\n",
    "print(optDataset.shape)"
   ]
  },
  {
   "cell_type": "code",
   "execution_count": 13,
   "metadata": {},
   "outputs": [
    {
     "name": "stdout",
     "output_type": "stream",
     "text": [
      "(40400, 12)\n",
      "(40400,)\n"
     ]
    }
   ],
   "source": [
    "optimalX = optDataset.iloc[:, :-1].values\n",
    "optimalY = optDataset.iloc[:, -1].values\n",
    "print(optimalX.shape)\n",
    "print(optimalY.shape)\n",
    "optimalRows, optimalCols = optimalX.shape"
   ]
  },
  {
   "cell_type": "markdown",
   "metadata": {},
   "source": [
    "### OLS Optimal Dataset"
   ]
  },
  {
   "cell_type": "markdown",
   "metadata": {},
   "source": [
    "##### Now, we repeat the backwards elimination process, except now with the optimal dataset. Instantly, we can see our R-squared value jumped up by almost 9%! This means we have to be doing something right. However, this is still relatively low compared to what a good model would have. The reasoning we might have a lower R-squared value would be because maybe the dataset isn't linear and therefore, a linear model isn't the most optimal model. \n",
    "\n",
    "##### Moving back to the OLS summary, we notice we can omit predictor 2 which is our 'passenger_count' column. Using our intuition, this seems like a predictor that would be irrelevant to our dataset because taking a taxi cab from point A to point B wouldn't depend on others. We can think of this as that people don't pick their destination based on how many people they're with. For example, if I am at the airport and want to take uber back home, it wouldn't matter if 2 other people came with me or if I was going alone, I will still be travelling to the same desination."
   ]
  },
  {
   "cell_type": "code",
   "execution_count": 14,
   "metadata": {},
   "outputs": [
    {
     "name": "stdout",
     "output_type": "stream",
     "text": [
      "                            OLS Regression Results                            \n",
      "==============================================================================\n",
      "Dep. Variable:                      y   R-squared:                       0.098\n",
      "Model:                            OLS   Adj. R-squared:                  0.098\n",
      "Method:                 Least Squares   F-statistic:                     400.1\n",
      "Date:                Thu, 21 Mar 2019   Prob (F-statistic):               0.00\n",
      "Time:                        23:23:40   Log-Likelihood:            -3.0135e+05\n",
      "No. Observations:               40400   AIC:                         6.027e+05\n",
      "Df Residuals:                   40388   BIC:                         6.028e+05\n",
      "Df Model:                          11                                         \n",
      "Covariance Type:            nonrobust                                         \n",
      "==============================================================================\n",
      "                 coef    std err          t      P>|t|      [0.025      0.975]\n",
      "------------------------------------------------------------------------------\n",
      "const       4.115e+05   6314.236     65.166      0.000    3.99e+05    4.24e+05\n",
      "x1             2.2407      0.328      6.823      0.000       1.597       2.884\n",
      "x2             1.8173      1.580      1.151      0.250      -1.279       4.913\n",
      "x3          2225.7458     68.374     32.553      0.000    2091.731    2359.760\n",
      "x4         -1252.4394     90.077    -13.904      0.000   -1428.993   -1075.886\n",
      "x5          2471.7136     69.899     35.361      0.000    2334.711    2608.717\n",
      "x6         -1980.4463     76.591    -25.857      0.000   -2130.566   -1830.327\n",
      "x7          6.855e+04   1052.373     65.138      0.000    6.65e+04    7.06e+04\n",
      "x8          6.855e+04   1052.364     65.141      0.000    6.65e+04    7.06e+04\n",
      "x9          6.858e+04   1052.402     65.162      0.000    6.65e+04    7.06e+04\n",
      "x10          6.86e+04   1052.400     65.182      0.000    6.65e+04    7.07e+04\n",
      "x11          6.86e+04   1052.395     65.184      0.000    6.65e+04    7.07e+04\n",
      "x12          6.86e+04   1052.365     65.187      0.000    6.65e+04    7.07e+04\n",
      "==============================================================================\n",
      "Omnibus:                     4201.215   Durbin-Watson:                   2.008\n",
      "Prob(Omnibus):                  0.000   Jarque-Bera (JB):             5663.589\n",
      "Skew:                           0.866   Prob(JB):                         0.00\n",
      "Kurtosis:                       3.604   Cond. No.                     6.07e+17\n",
      "==============================================================================\n",
      "\n",
      "Warnings:\n",
      "[1] Standard Errors assume that the covariance matrix of the errors is correctly specified.\n",
      "[2] The smallest eigenvalue is 1.59e-27. This might indicate that there are\n",
      "strong multicollinearity problems or that the design matrix is singular.\n",
      "                            OLS Regression Results                            \n",
      "==============================================================================\n",
      "Dep. Variable:                      y   R-squared:                       0.098\n",
      "Model:                            OLS   Adj. R-squared:                  0.098\n",
      "Method:                 Least Squares   F-statistic:                     439.9\n",
      "Date:                Thu, 21 Mar 2019   Prob (F-statistic):               0.00\n",
      "Time:                        23:23:40   Log-Likelihood:            -3.0135e+05\n",
      "No. Observations:               40400   AIC:                         6.027e+05\n",
      "Df Residuals:                   40389   BIC:                         6.028e+05\n",
      "Df Model:                          10                                         \n",
      "Covariance Type:            nonrobust                                         \n",
      "==============================================================================\n",
      "                 coef    std err          t      P>|t|      [0.025      0.975]\n",
      "------------------------------------------------------------------------------\n",
      "const       4.115e+05   6314.231     65.170      0.000    3.99e+05    4.24e+05\n",
      "x1             2.2446      0.328      6.835      0.000       1.601       2.888\n",
      "x2          2225.9579     68.374     32.556      0.000    2091.943    2359.973\n",
      "x3         -1252.8517     90.077    -13.909      0.000   -1429.405   -1076.299\n",
      "x4          2471.3872     69.898     35.357      0.000    2334.385    2608.390\n",
      "x5         -1980.8064     76.590    -25.862      0.000   -2130.926   -1830.687\n",
      "x6          6.855e+04   1052.372     65.141      0.000    6.65e+04    7.06e+04\n",
      "x7          6.856e+04   1052.363     65.145      0.000    6.65e+04    7.06e+04\n",
      "x8          6.858e+04   1052.401     65.165      0.000    6.65e+04    7.06e+04\n",
      "x9           6.86e+04   1052.399     65.186      0.000    6.65e+04    7.07e+04\n",
      "x10          6.86e+04   1052.394     65.188      0.000    6.65e+04    7.07e+04\n",
      "x11          6.86e+04   1052.364     65.191      0.000    6.65e+04    7.07e+04\n",
      "==============================================================================\n",
      "Omnibus:                     4200.368   Durbin-Watson:                   2.008\n",
      "Prob(Omnibus):                  0.000   Jarque-Bera (JB):             5662.041\n",
      "Skew:                           0.866   Prob(JB):                         0.00\n",
      "Kurtosis:                       3.604   Cond. No.                     5.77e+17\n",
      "==============================================================================\n",
      "\n",
      "Warnings:\n",
      "[1] Standard Errors assume that the covariance matrix of the errors is correctly specified.\n",
      "[2] The smallest eigenvalue is 1.75e-27. This might indicate that there are\n",
      "strong multicollinearity problems or that the design matrix is singular.\n",
      "(40400, 11)\n"
     ]
    }
   ],
   "source": [
    "omitX_opt = np.append(arr = np.ones((optimalRows, 1)).astype(int), values = optimalX, axis = 1)\n",
    "\n",
    "# Fit the full model with all possible predictors\n",
    "# regressor ordinary least squares\n",
    "regressor_out_OLS =  sm.OLS(endog = optimalY, exog = omitX_opt).fit()\n",
    "print(regressor_out_OLS.summary())\n",
    "\n",
    "# Omit 2nd column (passenger count)\n",
    "omitX_opt = np.delete(omitX_opt , 2, axis=1)\n",
    "regressor_out_OLS =  sm.OLS(endog = optimalY, exog = omitX_opt).fit()\n",
    "print(regressor_out_OLS.summary())\n",
    "\n",
    "# Take column of 1s out from optimal model\n",
    "omitX_opt = omitX_opt[:, 1:]\n",
    "print(omitX_opt.shape)"
   ]
  },
  {
   "cell_type": "markdown",
   "metadata": {},
   "source": [
    "### Linear Model (Optimal Dataset)"
   ]
  },
  {
   "cell_type": "markdown",
   "metadata": {},
   "source": [
    "##### As we did above, we fit a linear regression model except now with our optimal dataset. For a linear model, we were very pleased with our results, reducing our RMSE to around 7 minutes. We can also see that by omitting passenger_count, it didn't actually help our model become better.\n",
    "\n",
    "##### Comparing thise to the model above, we can see the effect of how cleaning up a dataset will produce better results. We were able to reduce our error by more than 40 minutes!"
   ]
  },
  {
   "cell_type": "code",
   "execution_count": 15,
   "metadata": {},
   "outputs": [
    {
     "name": "stdout",
     "output_type": "stream",
     "text": [
      "The Linear Regression RMSE of all train predictors in the optimal set 417.8373940487227\n",
      "The Linear Regression RMSE of the optimal test predictors in the optimal set 417.8470040019197\n",
      "Largest value in y: 2266\n",
      "Smallest value in y: 300\n"
     ]
    }
   ],
   "source": [
    "optRMSE = custom_validation(optDataset, 'linreg', optimalX, optimalY, 10, 1)\n",
    "print('The Linear Regression RMSE of all train predictors in the optimal set', optRMSE[0])\n",
    "print('The Linear Regression RMSE of the optimal test predictors in the optimal set', optRMSE[1])\n",
    "print('Largest value in y:', np.max(optimalY))\n",
    "print('Smallest value in y:', np.min(optimalY))"
   ]
  },
  {
   "cell_type": "markdown",
   "metadata": {},
   "source": [
    "## Polynomial Regression"
   ]
  },
  {
   "cell_type": "markdown",
   "metadata": {},
   "source": [
    "##### Polynomial regression is an algorithm that we didn't learn in this class, but we thought it would a useful method to try and improve upon the linear regression results. Instead of trying to fit a line to the data, polynomial regression models the relationship between the independent X variables and dependent y variable as an nth degree polynomial.\n",
    "\n",
    "##### Comparing Polynomial Regression (degree = 3) to Linear Regression, we can conclude that our Polynomial Regression is better by about a minute. We ran through various degrees (1, 2, 3) and found out that 3 would give us the most optimal results. Degrees higher than 3 resulted in a runtime that was too long. We attempted to decrease the dataset size in order to speed up the runtime with higher degrees, however, we noticed that if the dataset was too small that the model would have a higher (worse) RMSE. \n",
    "\n",
    "##### As we can see, this model produces even better results than the ones above even if it is a couple of seconds! "
   ]
  },
  {
   "cell_type": "code",
   "execution_count": 16,
   "metadata": {},
   "outputs": [
    {
     "name": "stdout",
     "output_type": "stream",
     "text": [
      "The Polynomial Regression RMSE of all train predictors in the optimal set 352.3415422694177\n",
      "The Polynomial Regression RMSE of the optimal test predictors in the optimal set 352.02974136028354\n",
      "Largest value in y: 2266\n",
      "Smallest value in y: 300\n"
     ]
    }
   ],
   "source": [
    "optRMSE = custom_validation(optDataset, 'polyReg', optimalX, optimalY, 10, 1)\n",
    "print('The Polynomial Regression RMSE of all train predictors in the optimal set', optRMSE[0])\n",
    "print('The Polynomial Regression RMSE of the optimal test predictors in the optimal set', optRMSE[1])\n",
    "print('Largest value in y:', np.max(optimalY))\n",
    "print('Smallest value in y:', np.min(optimalY))"
   ]
  },
  {
   "cell_type": "markdown",
   "metadata": {},
   "source": [
    "## Decision Tree"
   ]
  },
  {
   "cell_type": "markdown",
   "metadata": {},
   "source": [
    "##### Decision tree is another algorithm we hoped would improve upon the initial linear regression results. This algorithm builds models in the form of a tree structure. It breaks down the dataset into smaller and smaller subsets, which incrementally builds the associated decision tree. The final result is a tree with decision nodes and leaf nodes. A decision node has two or more branches, which each represent values for the attribute tested, while a leaf node represents a decision on the target.\n",
    "\n",
    "##### Unfortunately, decision tree did not give us as good of results as we had hoped for. It was still an improvement upon the linear model, but did not perform as well as the polynomial regression. We first tried the decision tree with different maximum depth values but noticed that it still performed with a fast runtime even when nodes were expanded until all leaves were pure."
   ]
  },
  {
   "cell_type": "code",
   "execution_count": 17,
   "metadata": {},
   "outputs": [
    {
     "name": "stdout",
     "output_type": "stream",
     "text": [
      "The Decision Tree RMSE of all train predictors in the optimal set 375.9692257559254\n",
      "The Decision Tree RMSE of the optimal test predictors in the optimal set 375.4465232066463\n"
     ]
    }
   ],
   "source": [
    "dtRMSE = custom_validation(optDataset, 'decisionTree', optimalX, optimalY, 10, 1)\n",
    "print('The Decision Tree RMSE of all train predictors in the optimal set', dtRMSE[0])\n",
    "print('The Decision Tree RMSE of the optimal test predictors in the optimal set', dtRMSE[1])"
   ]
  },
  {
   "cell_type": "markdown",
   "metadata": {},
   "source": [
    "Here we attempted to graph the decision tree, but it was taking an extremely long time, possibly due to it being a large dataset with many decisions to make."
   ]
  },
  {
   "cell_type": "code",
   "execution_count": 18,
   "metadata": {},
   "outputs": [],
   "source": [
    "def show_tree(decisionTree, file_path):\n",
    "    dotfile = io.StringIO()\n",
    "    export_graphviz(decisionTree, out_file=dotfile)\n",
    "    (graph,)=pydot.graph_from_dot_data(dotfile.getvalue())\n",
    "    graph.write_png(file_path)\n",
    "    i = misc.imread(file_path)\n",
    "    plt.imshow(i)\n",
    "#show_tree(dtRMSE[2], 'test.png')"
   ]
  },
  {
   "cell_type": "markdown",
   "metadata": {},
   "source": [
    "## Random Forest"
   ]
  },
  {
   "cell_type": "markdown",
   "metadata": {},
   "source": [
    "##### The last model we tried was the random forest model. This algorithm actually uses multiple decision trees, and merges them together to (hopefully!) get a more accurate prediction. This was definitely the result in our case. Comparing the Random Forest with the Linear Regression, we can see that Random Forest brings us closer to our actual trip duration. We were able to go from a 7 minute error to only 4 minutes, almost half!\n",
    "\n",
    "##### If you look into the code in the custom_validation function for calling the Random Forest Regressor, I chose n_estimates to have a parameter value of 100. In a Random Forest Regression, there comes a point that where if we increase the number of decision trees, our value eventually will converge. After many attempts tuning the n_estimates parameter (brute force and GridSearchCV on a local device for quicker runtime) I found that 100 is a happy medium of getting a good result while not being too long of a runtime. Increasing this value more will lead to a significant increase in runtime while obtaining almost the same value."
   ]
  },
  {
   "cell_type": "code",
   "execution_count": 19,
   "metadata": {},
   "outputs": [
    {
     "name": "stdout",
     "output_type": "stream",
     "text": [
      "The Random Forest RMSE of all train predictors in the optimal set 266.7930106928817\n",
      "The Random Forest RMSE of the optimal test predictors in the optimal set 266.6254734723061\n"
     ]
    }
   ],
   "source": [
    "rfRMSE = custom_validation(optDataset, 'randomForest', optimalX, optimalY, 10, 1)\n",
    "print('The Random Forest RMSE of all train predictors in the optimal set', rfRMSE[0])\n",
    "print('The Random Forest RMSE of the optimal test predictors in the optimal set', rfRMSE[1])"
   ]
  },
  {
   "cell_type": "markdown",
   "metadata": {},
   "source": [
    "# Ethics and Privacy"
   ]
  },
  {
   "cell_type": "markdown",
   "metadata": {},
   "source": [
    "##### For privacy reasons, we decided to drop the vendor-id row since this can give away information about the driver. For our analysis we did not need to use that data so there was no issue in removing the column. Other than that, we found no violation of privacy in our work that needed to be addresses. We are eligible to use this data from Kaggle and provided by the NYC Yellow Cab. All of us in the group comply with the terms and agreements which were provided for us when we signed up for an account on Kaggle. \n",
    "\n",
    "##### Even though our predictions can be useful for both the taxi company and commuters, there is a chance that this information can be misused. If drivers are provided with estimates of when rides take longer, there could be “surge” pricing where drivers charge more. This is something that may be problematic but depends entirely on taxi companies.\n",
    "\n",
    "##### Another potential issue is that the data provided is from 2016. There is a chance that there is more up to date data that can drastically change the predictions. For there to be more accurate predictions, we would need to use a different data set with data provided from recent years. "
   ]
  },
  {
   "cell_type": "markdown",
   "metadata": {},
   "source": [
    "# Conclusions and Discussion"
   ]
  },
  {
   "cell_type": "markdown",
   "metadata": {},
   "source": [
    "| Model | RMSE on All Predictors | RMSE on Optimal Predictors |\n",
    "|-------|------------------------|----------------------------|\n",
    "|  Linear Regression  |417.8373|417.8470|\n",
    "|  Polynomial Regression  |352.3415|352.0297|\n",
    "|  Decision Tree  |375.9692|375.4465|\n",
    "|  Random Forest  |266.7930|266.6254|"
   ]
  },
  {
   "cell_type": "markdown",
   "metadata": {},
   "source": [
    "##### From all the different models we ran on this dataset, the one with the lowest RMSE was Random Forest. This intuitively makes sense, since we wouldn't expect such a complex dataset to have a simple linear or even polynomial relationship, and a random forest is simply a collection of multiple decision trees.\n",
    "\n",
    "##### While the linear regression was a good baseline to start off with, we understood why it resulted in a pretty high RMSE due to the dataset simply not having a linear relationship. Polynomial regression was a decent improvement upon the linear regression results, since it is easier to fit an n-th degree polynomial to non-linear data due to it being able to have curves and less rigidity. However, using a polynomial regression model still assumes that the data follows some sort of polynomial pattern, which may not be the case expecially since we have over 10 predictors. Decision tree was a step in a different direction for us, letting us play around with some of the more complicated machine learning methods. Although the RMSE didn't drastically improve, it did give us the idea to use random forest. Random Forest adds additional randomness to the model (compared to decision tree), while growing the trees. Instead of searching for the most important feature when splitting a node, it searches for the best feature among a random subset of features. This results in a wide diversity that generally results in a better model. \n",
    "\n",
    "##### However, the issue with random forest is that it is not the most intuitive to understand. Although we have a algorithm that can get decently accurate results with only a 4 minute error, we still don't know why the model works or which features were the best predictors. We decided to do a little more with the Random Forest model and use it to sort the features by importance."
   ]
  },
  {
   "cell_type": "code",
   "execution_count": 20,
   "metadata": {},
   "outputs": [
    {
     "data": {
      "text/html": [
       "<div>\n",
       "<style scoped>\n",
       "    .dataframe tbody tr th:only-of-type {\n",
       "        vertical-align: middle;\n",
       "    }\n",
       "\n",
       "    .dataframe tbody tr th {\n",
       "        vertical-align: top;\n",
       "    }\n",
       "\n",
       "    .dataframe thead th {\n",
       "        text-align: right;\n",
       "    }\n",
       "</style>\n",
       "<table border=\"1\" class=\"dataframe\">\n",
       "  <thead>\n",
       "    <tr style=\"text-align: right;\">\n",
       "      <th></th>\n",
       "      <th>importance</th>\n",
       "    </tr>\n",
       "    <tr>\n",
       "      <th>feature</th>\n",
       "      <th></th>\n",
       "    </tr>\n",
       "  </thead>\n",
       "  <tbody>\n",
       "    <tr>\n",
       "      <th>pickup_latitude</th>\n",
       "      <td>0.232</td>\n",
       "    </tr>\n",
       "    <tr>\n",
       "      <th>pickup_longitude</th>\n",
       "      <td>0.225</td>\n",
       "    </tr>\n",
       "    <tr>\n",
       "      <th>dropoff_latitude</th>\n",
       "      <td>0.221</td>\n",
       "    </tr>\n",
       "    <tr>\n",
       "      <th>dropoff_longitude</th>\n",
       "      <td>0.212</td>\n",
       "    </tr>\n",
       "    <tr>\n",
       "      <th>pickup_time</th>\n",
       "      <td>0.058</td>\n",
       "    </tr>\n",
       "    <tr>\n",
       "      <th>passenger_count</th>\n",
       "      <td>0.014</td>\n",
       "    </tr>\n",
       "    <tr>\n",
       "      <th>May</th>\n",
       "      <td>0.007</td>\n",
       "    </tr>\n",
       "    <tr>\n",
       "      <th>Jun</th>\n",
       "      <td>0.007</td>\n",
       "    </tr>\n",
       "    <tr>\n",
       "      <th>Jan</th>\n",
       "      <td>0.006</td>\n",
       "    </tr>\n",
       "    <tr>\n",
       "      <th>Apr</th>\n",
       "      <td>0.006</td>\n",
       "    </tr>\n",
       "    <tr>\n",
       "      <th>Feb</th>\n",
       "      <td>0.005</td>\n",
       "    </tr>\n",
       "    <tr>\n",
       "      <th>Mar</th>\n",
       "      <td>0.005</td>\n",
       "    </tr>\n",
       "  </tbody>\n",
       "</table>\n",
       "</div>"
      ],
      "text/plain": [
       "                   importance\n",
       "feature                      \n",
       "pickup_latitude         0.232\n",
       "pickup_longitude        0.225\n",
       "dropoff_latitude        0.221\n",
       "dropoff_longitude       0.212\n",
       "pickup_time             0.058\n",
       "passenger_count         0.014\n",
       "May                     0.007\n",
       "Jun                     0.007\n",
       "Jan                     0.006\n",
       "Apr                     0.006\n",
       "Feb                     0.005\n",
       "Mar                     0.005"
      ]
     },
     "execution_count": 20,
     "metadata": {},
     "output_type": "execute_result"
    }
   ],
   "source": [
    "importances = pd.DataFrame({'feature':dataset.loc[:, dataset.columns != 'tripDuration'].columns,'importance':np.round(rfRMSE[2].feature_importances_,3)})\n",
    "importances = importances.sort_values('importance',ascending=False).set_index('feature')\n",
    "importances"
   ]
  },
  {
   "cell_type": "code",
   "execution_count": 21,
   "metadata": {},
   "outputs": [
    {
     "data": {
      "text/plain": [
       "<matplotlib.axes._subplots.AxesSubplot at 0x1a1d418518>"
      ]
     },
     "execution_count": 21,
     "metadata": {},
     "output_type": "execute_result"
    },
    {
     "data": {
      "image/png": "[encoded data removed]",
      "text/plain": [
       "<Figure size 432x288 with 1 Axes>"
      ]
     },
     "metadata": {
      "needs_background": "light"
     },
     "output_type": "display_data"
    }
   ],
   "source": [
    "importances.plot.bar()"
   ]
  },
  {
   "cell_type": "markdown",
   "metadata": {},
   "source": [
    "##### Here, we can see that there is a big difference in the importance of the various predictors. While pickup location and dropoff location both had importance above 0.2, pickup time was a big step down to 0.05 and the rest of the predictors (passenger count and pick month) were below 0.02/0.01. So now we know that the location of an NYC taxi is the most important factor in determining the length of time the ride will take. This does make sense intuitively, since NYC has many boroughs and each borough has its own neighborhoods, all with different \"city life\" and amount of traffic. Pickup time also had a little bit of importance with Random Forest, which matches the intuition of traffic hours causing different length rides.\n",
    "\n",
    "##### If we were to do further research with this dataset, it would be interesting to see if we could determine the location/borough of rides with their longitude and latitude coordinates, and try to predict length of taxi ride based on the different borough. Just by guessing, we would think that the more lively boroughs such as Manhattan or Brooklyn would have longer taxi rides due to traffic. However, one could also spin it the other way and say that those boroughs would have shorter taxi rides since people are just trying to go a short distance but they're more difficult to just walk around in. It would also be interesting to try and find Uber or Lyft data on top of the taxi data, since using rideshares are much more common these days."
   ]
  },
  {
   "cell_type": "markdown",
   "metadata": {},
   "source": [
    "# Contributions\n",
    "\n",
    "##### Nicholas Martz: Optimization, Linear Regression Models, Random Forest\n",
    "##### Guillermo Rios Martinez: Intro & Background, Polynomial Regression, Ethics/Privacy\n",
    "##### Angela Zhang: Decision Tree, Results/Conclusion/Discussion\n",
    "##### Kyle Sung: Data Features & Data Cleaning"
   ]
  }
 ],
 "metadata": {
  "kernelspec": {
   "display_name": "Python 3",
   "language": "python",
   "name": "python3"
  },
  "language_info": {
   "codemirror_mode": {
    "name": "ipython",
    "version": 3
   },
   "file_extension": ".py",
   "mimetype": "text/x-python",
   "name": "python",
   "nbconvert_exporter": "python",
   "pygments_lexer": "ipython3",
   "version": "3.6.8"
  },
  "toc": {
   "base_numbering": 1,
   "nav_menu": {},
   "number_sections": true,
   "sideBar": true,
   "skip_h1_title": false,
   "title_cell": "Table of Contents",
   "title_sidebar": "Contents",
   "toc_cell": false,
   "toc_position": {},
   "toc_section_display": true,
   "toc_window_display": false
  }
 },
 "nbformat": 4,
 "nbformat_minor": 2
}
