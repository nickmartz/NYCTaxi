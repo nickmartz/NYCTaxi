{
 "cells": [
  {
   "cell_type": "markdown",
   "metadata": {},
   "source": [
    "# NYC Taxi Dataset COGS 108 Final Project"
   ]
  },
  {
   "cell_type": "markdown",
   "metadata": {},
   "source": [
    "## Group Members:\n",
    "Nicholas Martz - A14219345\n",
    "\n",
    "Guillermo Rios Martinez - A13636152\n",
    "\n",
    "Angela Zhang - A13063547\n",
    "\n",
    "Kyle Sung"
   ]
  },
  {
   "cell_type": "markdown",
   "metadata": {},
   "source": [
    "##### The cell below illustrates all of the libraries we plan on importing to use for our Final Project"
   ]
  },
  {
   "cell_type": "code",
   "execution_count": 23,
   "metadata": {},
   "outputs": [],
   "source": [
    "import numpy as np\n",
    "import pandas as pd\n",
    "import graphviz\n",
    "import sklearn\n",
    "import matplotlib.pyplot as plt\n",
    "from sklearn.model_selection import train_test_split\n",
    "from sklearn.metrics import mean_squared_error\n",
    "from sklearn.linear_model import LinearRegression\n",
    "from sklearn.preprocessing import PolynomialFeatures\n",
    "from sklearn.ensemble import RandomForestRegressor\n",
    "from sklearn.tree import DecisionTreeRegressor"
   ]
  },
  {
   "cell_type": "markdown",
   "metadata": {},
   "source": [
    "## Cleaning Dataset "
   ]
  },
  {
   "cell_type": "markdown",
   "metadata": {},
   "source": [
    "##### Here is where we clean up our dataset. We plan on getting rid of variables that aren't needed and one-hot encoding the variables that contain a string for their values. Also, for the sake of runtime, we will only be using 50000 data points."
   ]
  },
  {
   "cell_type": "code",
   "execution_count": 2,
   "metadata": {},
   "outputs": [
    {
     "data": {
      "text/html": [
       "<div>\n",
       "<style scoped>\n",
       "    .dataframe tbody tr th:only-of-type {\n",
       "        vertical-align: middle;\n",
       "    }\n",
       "\n",
       "    .dataframe tbody tr th {\n",
       "        vertical-align: top;\n",
       "    }\n",
       "\n",
       "    .dataframe thead th {\n",
       "        text-align: right;\n",
       "    }\n",
       "</style>\n",
       "<table border=\"1\" class=\"dataframe\">\n",
       "  <thead>\n",
       "    <tr style=\"text-align: right;\">\n",
       "      <th></th>\n",
       "      <th>pickup_time</th>\n",
       "      <th>passenger_count</th>\n",
       "      <th>pickup_longitude</th>\n",
       "      <th>pickup_latitude</th>\n",
       "      <th>dropoff_longitude</th>\n",
       "      <th>dropoff_latitude</th>\n",
       "      <th>Jan</th>\n",
       "      <th>Feb</th>\n",
       "      <th>Mar</th>\n",
       "      <th>Apr</th>\n",
       "      <th>May</th>\n",
       "      <th>Jun</th>\n",
       "      <th>tripDuration</th>\n",
       "    </tr>\n",
       "  </thead>\n",
       "  <tbody>\n",
       "    <tr>\n",
       "      <th>0</th>\n",
       "      <td>17</td>\n",
       "      <td>1</td>\n",
       "      <td>-73.982155</td>\n",
       "      <td>40.767937</td>\n",
       "      <td>-73.964630</td>\n",
       "      <td>40.765602</td>\n",
       "      <td>0</td>\n",
       "      <td>0</td>\n",
       "      <td>1</td>\n",
       "      <td>0</td>\n",
       "      <td>0</td>\n",
       "      <td>0</td>\n",
       "      <td>455</td>\n",
       "    </tr>\n",
       "    <tr>\n",
       "      <th>1</th>\n",
       "      <td>0</td>\n",
       "      <td>1</td>\n",
       "      <td>-73.980415</td>\n",
       "      <td>40.738564</td>\n",
       "      <td>-73.999481</td>\n",
       "      <td>40.731152</td>\n",
       "      <td>0</td>\n",
       "      <td>0</td>\n",
       "      <td>0</td>\n",
       "      <td>0</td>\n",
       "      <td>0</td>\n",
       "      <td>1</td>\n",
       "      <td>663</td>\n",
       "    </tr>\n",
       "    <tr>\n",
       "      <th>2</th>\n",
       "      <td>11</td>\n",
       "      <td>1</td>\n",
       "      <td>-73.979027</td>\n",
       "      <td>40.763939</td>\n",
       "      <td>-74.005333</td>\n",
       "      <td>40.710087</td>\n",
       "      <td>1</td>\n",
       "      <td>0</td>\n",
       "      <td>0</td>\n",
       "      <td>0</td>\n",
       "      <td>0</td>\n",
       "      <td>0</td>\n",
       "      <td>2124</td>\n",
       "    </tr>\n",
       "    <tr>\n",
       "      <th>3</th>\n",
       "      <td>19</td>\n",
       "      <td>1</td>\n",
       "      <td>-74.010040</td>\n",
       "      <td>40.719971</td>\n",
       "      <td>-74.012268</td>\n",
       "      <td>40.706718</td>\n",
       "      <td>0</td>\n",
       "      <td>0</td>\n",
       "      <td>0</td>\n",
       "      <td>1</td>\n",
       "      <td>0</td>\n",
       "      <td>0</td>\n",
       "      <td>429</td>\n",
       "    </tr>\n",
       "    <tr>\n",
       "      <th>4</th>\n",
       "      <td>13</td>\n",
       "      <td>1</td>\n",
       "      <td>-73.973053</td>\n",
       "      <td>40.793209</td>\n",
       "      <td>-73.972923</td>\n",
       "      <td>40.782520</td>\n",
       "      <td>0</td>\n",
       "      <td>0</td>\n",
       "      <td>1</td>\n",
       "      <td>0</td>\n",
       "      <td>0</td>\n",
       "      <td>0</td>\n",
       "      <td>435</td>\n",
       "    </tr>\n",
       "  </tbody>\n",
       "</table>\n",
       "</div>"
      ],
      "text/plain": [
       "   pickup_time  passenger_count  pickup_longitude  pickup_latitude  \\\n",
       "0           17                1        -73.982155        40.767937   \n",
       "1            0                1        -73.980415        40.738564   \n",
       "2           11                1        -73.979027        40.763939   \n",
       "3           19                1        -74.010040        40.719971   \n",
       "4           13                1        -73.973053        40.793209   \n",
       "\n",
       "   dropoff_longitude  dropoff_latitude  Jan  Feb  Mar  Apr  May  Jun  \\\n",
       "0         -73.964630         40.765602    0    0    1    0    0    0   \n",
       "1         -73.999481         40.731152    0    0    0    0    0    1   \n",
       "2         -74.005333         40.710087    1    0    0    0    0    0   \n",
       "3         -74.012268         40.706718    0    0    0    1    0    0   \n",
       "4         -73.972923         40.782520    0    0    1    0    0    0   \n",
       "\n",
       "   tripDuration  \n",
       "0           455  \n",
       "1           663  \n",
       "2          2124  \n",
       "3           429  \n",
       "4           435  "
      ]
     },
     "execution_count": 2,
     "metadata": {},
     "output_type": "execute_result"
    }
   ],
   "source": [
    "dataset = pd.read_csv('nycTaxiDataset.csv')\n",
    "\n",
    "dataset['Jan'] = np.where(dataset['pickup_date'] == 1, 1, 0)\n",
    "dataset['Feb'] = np.where(dataset['pickup_date'] == 2, 1, 0)\n",
    "dataset['Mar'] = np.where(dataset['pickup_date'] == 3, 1, 0)\n",
    "dataset['Apr'] = np.where(dataset['pickup_date'] == 4, 1, 0)\n",
    "dataset['May'] = np.where(dataset['pickup_date'] == 5, 1, 0)\n",
    "dataset['Jun'] = np.where(dataset['pickup_date'] == 6, 1, 0)\n",
    "dataset = dataset.drop(columns=['pickup_date'])\n",
    "\n",
    "# Format purposes, target at the end\n",
    "dataset['tripDuration'] = dataset['trip_duration']\n",
    "dataset = dataset.drop(columns=['trip_duration'])\n",
    "dataset.head()"
   ]
  },
  {
   "cell_type": "code",
   "execution_count": 3,
   "metadata": {},
   "outputs": [
    {
     "name": "stdout",
     "output_type": "stream",
     "text": [
      "(50000, 12)\n",
      "(50000,)\n"
     ]
    }
   ],
   "source": [
    "X = dataset.iloc[:, :-1].values\n",
    "y = dataset.iloc[:, -1].values\n",
    "print(X.shape)\n",
    "print(y.shape)"
   ]
  },
  {
   "cell_type": "markdown",
   "metadata": {},
   "source": [
    "## Initial Visualization"
   ]
  },
  {
   "cell_type": "markdown",
   "metadata": {},
   "source": [
    "##### Below are some initial visualizations we did to illustrate the relationship between one, two, or three variables. \n",
    "\n",
    "##### We want to see if we can distinguish a pattern right off the bat. Notice that for the duration portions of the graphs, we can see a pattern where some points lie very high in the duration column. We notice that there lies a cluster of points under 20,000 seconds and another around 80,000 seconds. 80,000 seconds translates to about 22 hours which seems very odd.\n",
    "\n",
    "##### Our assumption is that this Kaggle dataset didn't correctly take into account travel times which started before midnight (PM) and ended after midnight (AM). It seems that they might have added an extrenous number to the actual travel time due to it being from one day to another. We will omit this later on in the project."
   ]
  },
  {
   "cell_type": "code",
   "execution_count": 4,
   "metadata": {},
   "outputs": [
    {
     "data": {
      "image/png": "[encoded data removed]",
      "text/plain": [
       "<Figure size 432x288 with 1 Axes>"
      ]
     },
     "metadata": {
      "needs_background": "light"
     },
     "output_type": "display_data"
    }
   ],
   "source": [
    "# Time vs Duration\n",
    "timeAxis = dataset.iloc[:, 1].values\n",
    "plt.title('Time vs Duration')\n",
    "plt.xlabel('Month')\n",
    "plt.ylabel('Duration of Ride (seconds)')\n",
    "plt.scatter(timeAxis, y, color='red')\n",
    "plt.show()"
   ]
  },
  {
   "cell_type": "code",
   "execution_count": 5,
   "metadata": {},
   "outputs": [
    {
     "data": {
      "image/png": "[encoded data removed]",
      "text/plain": [
       "<Figure size 432x288 with 1 Axes>"
      ]
     },
     "metadata": {
      "needs_background": "light"
     },
     "output_type": "display_data"
    }
   ],
   "source": [
    "# Time vs Longitude\n",
    "locationLongAxis = dataset.iloc[:, 3].values\n",
    "plt.title('Location Longitude vs Duration')\n",
    "plt.xlabel('Location Longitude')\n",
    "plt.ylabel('Duration of Ride (seconds)')\n",
    "plt.scatter(locationLongAxis, y, color='blue')\n",
    "plt.show()"
   ]
  },
  {
   "cell_type": "code",
   "execution_count": 6,
   "metadata": {},
   "outputs": [
    {
     "data": {
      "image/png": "[encoded data removed]",
      "text/plain": [
       "<Figure size 432x288 with 1 Axes>"
      ]
     },
     "metadata": {
      "needs_background": "light"
     },
     "output_type": "display_data"
    }
   ],
   "source": [
    "# Time vs Latitude\n",
    "locationLatAxis = dataset.iloc[:, 4].values\n",
    "plt.title('Location Latitude vs Duration')\n",
    "plt.xlabel('Location Latitude')\n",
    "plt.ylabel('Duration of Ride (seconds)')\n",
    "plt.scatter(locationLatAxis, y, color='yellow')\n",
    "plt.show()"
   ]
  },
  {
   "cell_type": "code",
   "execution_count": 7,
   "metadata": {},
   "outputs": [
    {
     "data": {
      "image/png": "[encoded data removed]",
      "text/plain": [
       "<Figure size 432x288 with 1 Axes>"
      ]
     },
     "metadata": {
      "needs_background": "light"
     },
     "output_type": "display_data"
    }
   ],
   "source": [
    "# Latitude vs Longitude vs Duration\n",
    "from mpl_toolkits.mplot3d import Axes3D\n",
    "fig = plt.figure()\n",
    "ax = Axes3D(fig)\n",
    "ax.scatter(locationLongAxis, locationLatAxis, y)\n",
    "ax.set_title('Latitude vs Longitude vs Duration')\n",
    "ax.set_xlabel('Longitude')\n",
    "ax.set_ylabel('Latitude')\n",
    "ax.set_zlabel('Duration')\n",
    "plt.show()"
   ]
  },
  {
   "cell_type": "markdown",
   "metadata": {},
   "source": [
    "# Linear Regression/Multi-Linear Regression"
   ]
  },
  {
   "cell_type": "markdown",
   "metadata": {},
   "source": [
    "## OLS Original Dataset"
   ]
  },
  {
   "cell_type": "markdown",
   "metadata": {},
   "source": [
    "##### First, we want to test how the raw dataset with the included outliers (80,000 seconds portion) will be as a linear model. This will give us a baseline and be our comparision to our cleaned up dataset which we will implement later. \n",
    "\n",
    "##### We implement a backwards elimination technique to see which predictors we can omit. We come out with a R-squared value of 0.009 which is considered a very bad model for our dataset. Remember, the R-squared value tells us how much the variation in our target variable is explained by the predictor variables. This means that only 0.9% of the variation of our target variables can be explained by the predictors, hence, a bad model to predict the duartion of our trip. \n",
    "\n",
    "##### Since our dataset has some false outlier data, we expected our R-Squared value to be low. After running our backwards elimination and OLS summary, we are able to omit pickup time. Intuitively, we can see that this may not be the best idea because pickup time clearly affects the duration of a trip (traffic hour vs non-traffic hour) and we are able to conclude that this dataset is not optimal."
   ]
  },
  {
   "cell_type": "code",
   "execution_count": 8,
   "metadata": {},
   "outputs": [
    {
     "name": "stdout",
     "output_type": "stream",
     "text": [
      "(50000, 11)\n"
     ]
    }
   ],
   "source": [
    "# Building the optimal model using Backwards Elimination\n",
    "import statsmodels.formula.api as sm\n",
    "\n",
    "# We have to add a column of 1s because statsmodels.formula.api doesn't account for b0\n",
    "# To include b0 we can just have x0 = 1, which will tell statsmodel.formula.api to account for b0\n",
    "# Adding X to an array full of 1s\n",
    "X_opt = np.append(arr = np.ones((50000, 1)).astype(int), values = X, axis = 1)\n",
    "\n",
    "\n",
    "# Fit the full model with all possible predictors\n",
    "# regressor ordinary least squares\n",
    "regressor_OLS =  sm.OLS(endog = y, exog = X_opt).fit()\n",
    "\n",
    "regressor_OLS.summary()\n",
    "\n",
    "# Omitting based on 0.5 threshold\n",
    "\n",
    "# Omit 1st column (pickup time)\n",
    "X_opt = np.delete(X_opt, 1, axis=1)\n",
    "regressor_OLS =  sm.OLS(endog = y, exog = X_opt).fit()\n",
    "regressor_OLS.summary()\n",
    "\n",
    "# Take column of 1s out from optimal model\n",
    "X_opt = X_opt[:, 1:]\n",
    "print(X_opt.shape)"
   ]
  },
  {
   "cell_type": "markdown",
   "metadata": {},
   "source": [
    "## Custom RMSE Function"
   ]
  },
  {
   "cell_type": "code",
   "execution_count": 34,
   "metadata": {},
   "outputs": [],
   "source": [
    "def custom_validation(random, model, X, y, folds, omit):\n",
    "    x_error = []\n",
    "    x_opt_error = []\n",
    "    \n",
    "    for i in range(folds):\n",
    "        # randomize\n",
    "        random = random.sample(frac=1)\n",
    "        X = random.iloc[:, :-1].values\n",
    "        y = random.iloc[:, -1].values\n",
    "        \n",
    "        # Size of test\n",
    "        xRows, xCol = X.shape\n",
    "        \n",
    "        # Splitting the dataset into the Training set and Test set\n",
    "        X_train, X_test, y_train, y_test = train_test_split(X, y, test_size = 1/folds, random_state = 0)\n",
    "    \n",
    "        # Size of test\n",
    "        rows, col = X_test.shape\n",
    "        \n",
    "        if(model == 'linreg'):\n",
    "            # Fitting Linear Regression to the Training set\n",
    "            regressor = LinearRegression()\n",
    "            regressor.fit(X_train, y_train)\n",
    "            y_pred = regressor.predict(X_test)\n",
    "        elif(model == 'polyReg') :\n",
    "            poly = PolynomialFeatures(degree = 3)\n",
    "            X_poly = poly.fit_transform(X_train)\n",
    "            poly.fit(X_poly, y_train)\n",
    "            regressor = LinearRegression()\n",
    "            regressor.fit(X_poly, y_train)\n",
    "            y_pred = regressor.predict(poly.fit_transform(X_test))\n",
    "        elif (model == 'randomForest'):\n",
    "            # Fitting Random Forest to the Training set\n",
    "            regressor = RandomForestRegressor(n_estimators = 50, random_state = 0)\n",
    "            regressor.fit(X_train, y_train)\n",
    "            y_pred = regressor.predict(X_test)\n",
    "        elif (model == 'decisionTree'):\n",
    "            regressor = DecisionTreeRegressor(random_state = 0)\n",
    "            regressor.fit(X_train, y_train)\n",
    "            y_pred = regressor.predict(X_test)\n",
    "        else:\n",
    "            print('not linear regression')\n",
    "        \n",
    "        x_error.append(np.sqrt(mean_squared_error(y_test, y_pred)))\n",
    "    \n",
    "        ## Repeating for the most optimal predictors\n",
    "        \n",
    "        # Optimal X\n",
    "        X_opt = np.delete(X, omit, axis=1)\n",
    "        \n",
    "        X_opt_train, X_opt_test, y_opt_train, y_opt_test = train_test_split(X_opt, y, test_size = 1/folds, random_state = 0)\n",
    "\n",
    "        opt_rows, opt_cols = X_opt_test.shape\n",
    "\n",
    "        if(model == 'linreg'):\n",
    "            opt_regressor = LinearRegression()\n",
    "            opt_regressor.fit(X_opt_train, y_opt_train)\n",
    "            y_pred_opt = opt_regressor.predict(X_opt_test)\n",
    "        elif(model == 'polyReg') :\n",
    "            poly_opt = PolynomialFeatures(degree = 3)\n",
    "            X_poly_opt = poly_opt.fit_transform(X_opt_train)\n",
    "            poly_opt.fit(X_poly_opt, y_opt_train)\n",
    "            regressor = LinearRegression()\n",
    "            regressor.fit(X_poly_opt, y_opt_train)\n",
    "            y_pred_opt = regressor.predict(poly_opt.fit_transform(X_opt_test))\n",
    "        elif (model == 'randomForest'):\n",
    "            opt_regressor = RandomForestRegressor(n_estimators = 50, random_state = 0)\n",
    "            opt_regressor.fit(X_opt_train, y_opt_train)\n",
    "            y_pred_opt = opt_regressor.predict(X_opt_test)\n",
    "        elif (model == 'decisionTree'):\n",
    "            opt_regressor = DecisionTreeRegressor(random_state = 0)\n",
    "            opt_regressor.fit(X_opt_train, y_opt_train)\n",
    "            y_pred_opt = opt_regressor.predict(X_opt_test)\n",
    "        else:\n",
    "            print('not linear regression')\n",
    "\n",
    "        x_opt_error.append(np.sqrt(mean_squared_error(y_opt_test, y_pred_opt)))\n",
    "    \n",
    "    return np.mean(x_error), np.mean(x_opt_error), opt_regressor"
   ]
  },
  {
   "cell_type": "markdown",
   "metadata": {},
   "source": [
    "## Linear Model (Original Dataset)"
   ]
  },
  {
   "cell_type": "markdown",
   "metadata": {},
   "source": [
    "##### This makes a call to the custom_validation function which returns us our RMSE for our model selected, in this case, a Linear Regression model. Our results indicate that our train and test predictors for both categories are pretty bad, predicting about 50 minutes off the duration time. Imagine taking a taxi cab in NYC with an estimated time of 60 minutes when it was actually only 10. You would probably think that this would be a bad predictor and never decide to trust it again. \n",
    "\n",
    "##### Remember, we expect a terrible RMSE because this is using the original dataset (our range of values are listed below). Also, note that this is taking into consideration trip that were 1 second which is impossible and the driver must have accidentally started the fare and shut it off immediately."
   ]
  },
  {
   "cell_type": "code",
   "execution_count": 10,
   "metadata": {},
   "outputs": [
    {
     "name": "stdout",
     "output_type": "stream",
     "text": [
      "The Linear Regression RMSE of all predictors 2741.385397447899\n",
      "The Linear Regression RMSE of the optimal predictors 2741.3475406044504\n",
      "Largest value in y: 86357\n",
      "Smallest value in y: 1\n"
     ]
    }
   ],
   "source": [
    "rmse = custom_validation(dataset, 'linreg', X, y, 10, 0)\n",
    "print('The Linear Regression RMSE of all predictors', rmse[0])\n",
    "print('The Linear Regression RMSE of the optimal predictors', rmse[1])\n",
    "print('Largest value in y:', np.max(y))\n",
    "print('Smallest value in y:', np.min(y))"
   ]
  },
  {
   "cell_type": "markdown",
   "metadata": {},
   "source": [
    "## More Optimal Dataset Excluding Outliers"
   ]
  },
  {
   "cell_type": "markdown",
   "metadata": {},
   "source": [
    "##### So this is where we actually make our most optimal dataset. Our dataset will first narrow down the scope of the trip duration to be between 5 minutes to 5 hours. We chose 5 minutes to be our initial low threshold because we figured that would normally be the decision where someone would take a cab instead of walking the distance. And we chose 20000 seconds (5 hours) to be our initial high threshold because, recall from the graphs in the beginning, most of the points lied under that. Then, we found the mean for the trip duration in that scope and took the data between the mean and two standard deviations from it to be our dataset which, now, excluded outliers. \n",
    "\n",
    "##### On a side note, we were able to take out almost 10,000 datapoints which were negatively affecting our models!"
   ]
  },
  {
   "cell_type": "code",
   "execution_count": 11,
   "metadata": {},
   "outputs": [
    {
     "name": "stdout",
     "output_type": "stream",
     "text": [
      "(42324, 13)\n",
      "Low threshold: -371.9424867572852\n",
      "High threshold: 2266.9388009052864\n",
      "(40400, 13)\n"
     ]
    }
   ],
   "source": [
    "optDataset = dataset.drop(dataset[dataset.tripDuration > 20000].index)\n",
    "optDataset = optDataset.drop(optDataset[optDataset.tripDuration < 300].index)\n",
    "print(optDataset.shape)\n",
    "\n",
    "optimalX = optDataset.iloc[:, :-1].values\n",
    "optimalY = optDataset.iloc[:, -1].values\n",
    "\n",
    "# Lets try it without outliers using stdev/mean\n",
    "mean = np.mean(optimalY)\n",
    "std = np.std(optimalY)\n",
    "\n",
    "# low threshold is at least five minutes\n",
    "lowThresh = mean - (2*std)\n",
    "highThresh = mean + (2*std)\n",
    "print('Low threshold:', lowThresh)\n",
    "print('High threshold:', highThresh)\n",
    "\n",
    "# Indexes to delete\n",
    "optDataset = optDataset[optDataset.tripDuration < highThresh]\n",
    "optDataset = optDataset[optDataset.tripDuration > lowThresh]\n",
    "\n",
    "print(optDataset.shape)"
   ]
  },
  {
   "cell_type": "code",
   "execution_count": 12,
   "metadata": {},
   "outputs": [
    {
     "name": "stdout",
     "output_type": "stream",
     "text": [
      "(40400, 12)\n",
      "(40400,)\n"
     ]
    }
   ],
   "source": [
    "optimalX = optDataset.iloc[:, :-1].values\n",
    "optimalY = optDataset.iloc[:, -1].values\n",
    "print(optimalX.shape)\n",
    "print(optimalY.shape)\n",
    "optimalRows, optimalCols = optimalX.shape"
   ]
  },
  {
   "cell_type": "markdown",
   "metadata": {},
   "source": [
    "## OLS Optimal Dataset"
   ]
  },
  {
   "cell_type": "markdown",
   "metadata": {},
   "source": [
    "##### Now, we repeat the backwards elimination process, except now with the optimal dataset. Instantly, we can see our R-squared value jumped up by almost 9%! This means we have to be doing something right. However, this is still relatively low compared to what a good model would have. The reasoning we might have a lower R-squared value would be because maybe the dataset isn't linear and therefore, a linear model isn't the most optimal model. \n",
    "\n",
    "##### Moving back to the OLS summary, we notice we can omit predictor 2 which is our 'passenger_count' column. Using our intuition, this seems like a predictor that would be irrelevant to our dataset because taking a taxi cab from point A to point B wouldn't depend on others. We can think of this as that people don't pick their destination based on how many people they're with. For example, if I am at the airport and want to take uber back home, it wouldn't matter if 2 other people came with me or if I was going alone, I will still be travelling to the same desination."
   ]
  },
  {
   "cell_type": "code",
   "execution_count": 13,
   "metadata": {},
   "outputs": [
    {
     "name": "stdout",
     "output_type": "stream",
     "text": [
      "(40400, 11)\n"
     ]
    }
   ],
   "source": [
    "omitX_opt = np.append(arr = np.ones((optimalRows, 1)).astype(int), values = optimalX, axis = 1)\n",
    "\n",
    "# Fit the full model with all possible predictors\n",
    "# regressor ordinary least squares\n",
    "regressor_out_OLS =  sm.OLS(endog = optimalY, exog = omitX_opt).fit()\n",
    "regressor_out_OLS.summary()\n",
    "\n",
    "# Omit 2nd column (passenger count)\n",
    "omitX_opt = np.delete(omitX_opt , 2, axis=1)\n",
    "regressor_out_OLS =  sm.OLS(endog = optimalY, exog = omitX_opt).fit()\n",
    "regressor_out_OLS.summary()\n",
    "\n",
    "# Take column of 1s out from optimal model\n",
    "omitX_opt = omitX_opt[:, 1:]\n",
    "print(omitX_opt.shape)"
   ]
  },
  {
   "cell_type": "markdown",
   "metadata": {},
   "source": [
    "## Linear Model (Optimal Dataset)"
   ]
  },
  {
   "cell_type": "markdown",
   "metadata": {},
   "source": [
    "##### As we did above, we fit a linear regression model except now with our optimal dataset. For a linear model, we were very pleased with our results, reducing our RMSE to around 7 minutes. We can also see that by omitting passenger_count, it didn't actually help our model become better.\n",
    "\n",
    "##### Comparing thise to the model above, we can see the effect of how cleaning up a dataset will produce better results. We were able to reduce our error by more than 40 minutes!"
   ]
  },
  {
   "cell_type": "code",
   "execution_count": 14,
   "metadata": {},
   "outputs": [
    {
     "name": "stdout",
     "output_type": "stream",
     "text": [
      "The Linear Regression RMSE of all train predictors in the optimal set 421.90477525220484\n",
      "The Linear Regression RMSE of the optimal test predictors in the optimal set 421.91116393097144\n",
      "Largest value in y: 2266\n",
      "Smallest value in y: 300\n"
     ]
    }
   ],
   "source": [
    "optRMSE = custom_validation(optDataset, 'linreg', optimalX, optimalY, 10, 1)\n",
    "print('The Linear Regression RMSE of all train predictors in the optimal set', optRMSE[0])\n",
    "print('The Linear Regression RMSE of the optimal test predictors in the optimal set', optRMSE[1])\n",
    "print('Largest value in y:', np.max(optimalY))\n",
    "print('Smallest value in y:', np.min(optimalY))"
   ]
  },
  {
   "cell_type": "markdown",
   "metadata": {},
   "source": [
    "## Polynomial Regression"
   ]
  },
  {
   "cell_type": "markdown",
   "metadata": {},
   "source": [
    "##### Comparing Polynomial Regression (degree = 3) to Linear Regression, we can conclude that our Polynomial Regression is better by about a minute. We ran through various degrees (1, 2, 3) and found out that 3 would give us the most optimal results. Degrees higher than 3 resulted in a runtime that was too long. We attempted to decrease the dataset size in order to speed up the runtime with higher degrees, however, we noticed that if the dataset was too small that the model would have a higher (worse) RMSE. \n",
    "\n",
    "##### As we can see, this model produces even better results than the ones above even if it is a couple of seconds! "
   ]
  },
  {
   "cell_type": "code",
   "execution_count": 15,
   "metadata": {},
   "outputs": [
    {
     "name": "stdout",
     "output_type": "stream",
     "text": [
      "The Polynomial Regression RMSE of all train predictors in the optimal set 344.01845566052504\n",
      "The Polynomail Regression RMSE of the optimal test predictors in the optimal set 343.766316731228\n",
      "Largest value in y: 2266\n",
      "Smallest value in y: 300\n"
     ]
    }
   ],
   "source": [
    "optRMSE = custom_validation(optDataset, 'polyReg', optimalX, optimalY, 10, 1)\n",
    "print('The Polynomial Regression RMSE of all train predictors in the optimal set', optRMSE[0])\n",
    "print('The Polynomail Regression RMSE of the optimal test predictors in the optimal set', optRMSE[1])\n",
    "print('Largest value in y:', np.max(optimalY))\n",
    "print('Smallest value in y:', np.min(optimalY))"
   ]
  },
  {
   "cell_type": "markdown",
   "metadata": {},
   "source": [
    "## Random Forest"
   ]
  },
  {
   "cell_type": "markdown",
   "metadata": {},
   "source": [
    "##### Comparing the Random Forest with the Linear Regression, we can see that Random Forest brings us closer to our actual trip duration. We were able to go from a 7 minute error to only 4 minutes, almost half!\n",
    "\n",
    "##### If you look into the code in the custom_validation function for calling the Random Forest Regressor, I chose n_estimates to have a parameter value of 100. In a Random Forest Regression, there comes a point that where if we increase the number of decision trees, our value eventually will converge. After many attempts tuning the n_estimates parameter (brute force and GridSearchCV on a local device for quicker runtime) I found that 100 is a happy medium of getting a good result while not being too long of a runtime. Increasing this value more will lead to a significant increase in runtime while obtaining almost the same value."
   ]
  },
  {
   "cell_type": "code",
   "execution_count": 16,
   "metadata": {},
   "outputs": [
    {
     "name": "stdout",
     "output_type": "stream",
     "text": [
      "The Random Forest RMSE of all train predictors in the optimal set 265.5024709346268\n",
      "The Random Forest RMSE of the optimal test predictors in the optimal set 265.30111717720473\n"
     ]
    }
   ],
   "source": [
    "rfRMSE = custom_validation(optDataset, 'randomForest', optimalX, optimalY, 10, 1)\n",
    "print('The Random Forest RMSE of all train predictors in the optimal set', rfRMSE[0])\n",
    "print('The Random Forest RMSE of the optimal test predictors in the optimal set', rfRMSE[1])"
   ]
  },
  {
   "cell_type": "markdown",
   "metadata": {},
   "source": [
    "## Decision Tree"
   ]
  },
  {
   "cell_type": "code",
   "execution_count": 35,
   "metadata": {},
   "outputs": [
    {
     "name": "stdout",
     "output_type": "stream",
     "text": [
      "The Decision Tree RMSE of all train predictors in the optimal set 373.97259521090353\n",
      "The Decision Tree RMSE of the optimal test predictors in the optimal set 374.7591529232942\n"
     ]
    }
   ],
   "source": [
    "dtRMSE = custom_validation(optDataset, 'decisionTree', optimalX, optimalY, 10, 1)\n",
    "print('The Decision Tree RMSE of all train predictors in the optimal set', dtRMSE[0])\n",
    "print('The Decision Tree RMSE of the optimal test predictors in the optimal set', dtRMSE[1])"
   ]
  },
  {
   "cell_type": "code",
   "execution_count": null,
   "metadata": {},
   "outputs": [],
   "source": [
    "graphviz.Source(sklearn.tree.export_graphviz(dtRMSE[2])).view()"
   ]
  },
  {
   "cell_type": "code",
   "execution_count": null,
   "metadata": {},
   "outputs": [],
   "source": []
  }
 ],
 "metadata": {
  "kernelspec": {
   "display_name": "Python 3",
   "language": "python",
   "name": "python3"
  },
  "language_info": {
   "codemirror_mode": {
    "name": "ipython",
    "version": 3
   },
   "file_extension": ".py",
   "mimetype": "text/x-python",
   "name": "python",
   "nbconvert_exporter": "python",
   "pygments_lexer": "ipython3",
   "version": "3.6.8"
  },
  "toc": {
   "base_numbering": 1,
   "nav_menu": {},
   "number_sections": true,
   "sideBar": true,
   "skip_h1_title": false,
   "title_cell": "Table of Contents",
   "title_sidebar": "Contents",
   "toc_cell": false,
   "toc_position": {},
   "toc_section_display": true,
   "toc_window_display": false
  }
 },
 "nbformat": 4,
 "nbformat_minor": 2
}
